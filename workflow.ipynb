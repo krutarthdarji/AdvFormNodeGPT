{
 "cells": [
  {
   "cell_type": "code",
   "execution_count": 1,
   "metadata": {},
   "outputs": [],
   "source": [
    "from dotenv import load_dotenv\n",
    "import os\n",
    "import openai\n",
    "import time\n",
    "from langchain_openai import ChatOpenAI\n",
    "from langchain.chains import LLMChain\n",
    "from langchain_core.prompts import PromptTemplate\n",
    "import warnings\n",
    "\n",
    "load_dotenv()\n",
    "warnings.filterwarnings(\"ignore\")\n"
   ]
  },
  {
   "cell_type": "code",
   "execution_count": 2,
   "metadata": {},
   "outputs": [],
   "source": [
    "DATA_PATH = \"data/training_data.jsonl\"\n",
    "\n",
    "def train_model():\n",
    "    client = openai.OpenAI(api_key=os.getenv(\"OPENAI_API_KEY\"))\n",
    "    \n",
    "    # Upload file\n",
    "    print(\"Uploading file to OpenAI...\")\n",
    "    upload_response = client.files.create(\n",
    "        file=open(DATA_PATH, \"rb\"),\n",
    "        purpose=\"fine-tune\"\n",
    "    )\n",
    "    uploaded_file_id = upload_response.id\n",
    "    print(\"File uploaded. File ID:\", uploaded_file_id)\n",
    "\n",
    "    # Create fine-tune job\n",
    "    print(\"Creating fine-tune job...\")\n",
    "    fine_tune_response = client.fine_tuning.jobs.create(\n",
    "        training_file=uploaded_file_id,\n",
    "        model=\"gpt-3.5-turbo-0125\",\n",
    "    )\n",
    "    fine_tune_id = fine_tune_response.id\n",
    "    print(\"Fine-tune job created. Response:\", fine_tune_response)\n",
    "\n",
    "    # Wait for completion\n",
    "    print(\"Waiting for fine-tune job to complete... This can take a while.\")\n",
    "    status = None\n",
    "    while status not in [\"succeeded\", \"failed\"]:\n",
    "        time.sleep(30)  # wait before checking\n",
    "        job_status = client.fine_tuning.jobs.retrieve(fine_tune_id)\n",
    "        status = job_status.status\n",
    "        print(f\"Current status: {status}\")\n",
    "    \n",
    "    print(\"Fine-tune job finished with status:\", status)\n",
    "    \n",
    "    # Save the fine-tuned model name\n",
    "    if status == \"succeeded\":\n",
    "        fine_tuned_model = job_status.fine_tuned_model\n",
    "        print(\"Fine-tuned model name:\", fine_tuned_model)\n",
    "        with open(\"fine_tuned_model_name.txt\", \"w\") as f:\n",
    "            f.write(fine_tuned_model)\n"
   ]
  },
  {
   "cell_type": "code",
   "execution_count": 3,
   "metadata": {},
   "outputs": [],
   "source": [
    "prompt_template = \"\"\"\n",
    "You are a specialized model that outputs JSON schemas for the AdvancedFormNode.\n",
    "User requirement: {user_requirement}\n",
    "Return the valid JSON schema. \n",
    "\"\"\"\n",
    "\n",
    "def get_llm_chain():\n",
    "    # Read fine-tuned model name\n",
    "    with open(\"fine_tuned_model_name.txt\", \"r\") as f:\n",
    "        fine_tuned_model = f.read().strip()\n",
    "        \n",
    "    # Setup ChatOpenAI with updated parameters\n",
    "    llm = ChatOpenAI(\n",
    "        model_name=fine_tuned_model,\n",
    "        temperature=0.0,\n",
    "        api_key=os.getenv(\"OPENAI_API_KEY\")\n",
    "    )\n",
    "    \n",
    "    # Create prompt template using langchain-core\n",
    "    prompt = PromptTemplate(\n",
    "        template=prompt_template,\n",
    "        input_variables=[\"user_requirement\"]\n",
    "    )\n",
    "    \n",
    "    # Create chain with updated LLMChain\n",
    "    chain = LLMChain(\n",
    "        llm=llm,\n",
    "        prompt=prompt,\n",
    "        verbose=False\n",
    "    )\n",
    "    \n",
    "    return chain"
   ]
  },
  {
   "cell_type": "code",
   "execution_count": null,
   "metadata": {},
   "outputs": [],
   "source": [
    "# Call this function to train the model\n",
    "train_model()"
   ]
  },
  {
   "cell_type": "code",
   "execution_count": null,
   "metadata": {},
   "outputs": [],
   "source": [
    "chain = get_llm_chain()"
   ]
  },
  {
   "cell_type": "code",
   "execution_count": null,
   "metadata": {},
   "outputs": [],
   "source": [
    "user_requirement = \"Give me schema for the Advanced form node which contain a Form and has the following fields: First Name, last name, email, phone number\"\n",
    "result = chain.run(user_requirement=user_requirement)"
   ]
  }
 ],
 "metadata": {
  "kernelspec": {
   "display_name": "AdvFormNodeGPT",
   "language": "python",
   "name": "python3"
  },
  "language_info": {
   "codemirror_mode": {
    "name": "ipython",
    "version": 3
   },
   "file_extension": ".py",
   "mimetype": "text/x-python",
   "name": "python",
   "nbconvert_exporter": "python",
   "pygments_lexer": "ipython3",
   "version": "3.13.1"
  }
 },
 "nbformat": 4,
 "nbformat_minor": 2
}
